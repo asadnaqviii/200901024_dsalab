{
  "nbformat": 4,
  "nbformat_minor": 0,
  "metadata": {
    "colab": {
      "name": "DSA Assignment ",
      "provenance": [],
      "authorship_tag": "ABX9TyOZBhKkUKqwSOpCxY9/nzep",
      "include_colab_link": true
    },
    "kernelspec": {
      "name": "python3",
      "display_name": "Python 3"
    },
    "language_info": {
      "name": "python"
    }
  },
  "cells": [
    {
      "cell_type": "markdown",
      "metadata": {
        "id": "view-in-github",
        "colab_type": "text"
      },
      "source": [
        "<a href=\"https://colab.research.google.com/github/asadnaqviii/200901024_dsalab/blob/main/DSA_Assignment.ipynb\" target=\"_parent\"><img src=\"https://colab.research.google.com/assets/colab-badge.svg\" alt=\"Open In Colab\"/></a>"
      ]
    },
    {
      "cell_type": "code",
      "metadata": {
        "colab": {
          "base_uri": "https://localhost:8080/"
        },
        "id": "GXrJyOpB3q7I",
        "outputId": "1fecbb7a-fc1b-4785-e7d4-2a5f8eb8664d"
      },
      "source": [
        "#Question 13\n",
        "#D=deque of 1,2,3,4,5,6,7,8\n",
        "#Q=queue empty queue\n",
        "#D is a deque, which means that it can accept input at either end\n",
        "#Q is a queue, which follows the FIFO approach\n",
        "from collections import deque\n",
        "D=deque()\n",
        "for i in range(1,9):\n",
        "    D.append(i)\n",
        "print(D)\n",
        "Queue=[]\n",
        "Q=Queue\n",
        "print(Q)"
      ],
      "execution_count": 1,
      "outputs": [
        {
          "output_type": "stream",
          "name": "stdout",
          "text": [
            "deque([1, 2, 3, 4, 5, 6, 7, 8])\n",
            "[]\n"
          ]
        }
      ]
    },
    {
      "cell_type": "code",
      "metadata": {
        "colab": {
          "base_uri": "https://localhost:8080/"
        },
        "id": "3PJajrv3-P8F",
        "outputId": "4ff79d4e-d0e7-4fc8-a536-3b49685742be"
      },
      "source": [
        "#Question 14\n",
        "from collections import deque \n",
        "D=deque([1,2,3,4,5,6,7,8])\n",
        "def dequeue_stack():\n",
        "    stack=[]\n",
        "    stack.append(D)\n",
        "    #print(D)\n",
        "    for i in range(10):\n",
        "        stack.push(D.pop())\n",
        "    print(stack)\n",
        "    for i in range(10):  \n",
        "        D.insert(stack.pop())\n",
        "print(D)"
      ],
      "execution_count": 21,
      "outputs": [
        {
          "output_type": "stream",
          "name": "stdout",
          "text": [
            "deque([1, 2, 3, 4, 5, 6, 7, 8])\n"
          ]
        }
      ]
    },
    {
      "cell_type": "code",
      "metadata": {
        "colab": {
          "base_uri": "https://localhost:8080/"
        },
        "id": "F9R6hhhIu0nV",
        "outputId": "502b7295-9b6a-443b-e64a-d719575f352e"
      },
      "source": [
        "#question 5\n",
        "def reversedlist(l):\n",
        "   stack = []\n",
        "   for a in l:\n",
        "       stack.append(a)\n",
        "   l = []\n",
        "   while len(stack)>0 :\n",
        "       l.append(stack.pop())\n",
        "   return l\n",
        "q = reversedlist([1,2,3])\n",
        "print(q)"
      ],
      "execution_count": 22,
      "outputs": [
        {
          "output_type": "stream",
          "name": "stdout",
          "text": [
            "[3, 2, 1]\n"
          ]
        }
      ]
    },
    {
      "cell_type": "code",
      "metadata": {
        "colab": {
          "base_uri": "https://localhost:8080/"
        },
        "id": "zWUky3UIkW-b",
        "outputId": "56804bb6-f195-48cb-afb5-f035600e9419"
      },
      "source": [
        "#Question 11\n",
        "# demonstrate queue implementation\n",
        "# using collections.dequeue\n",
        "from collections import deque\n",
        "# Initializing a queue\n",
        "q = deque()\n",
        "# Adding elements to a queue\n",
        "q.append('a')\n",
        "q.append('b')\n",
        "q.append('c')\n",
        "print(\"Initial queue\")\n",
        "print(q)\n",
        "# Removing elements from a queue\n",
        "print(\"\\nElements dequeued from the queue\")\n",
        "print(q.popleft())\n",
        "print(q.popleft())\n",
        "print(q.popleft())\n",
        "print(\"\\nQueue after elements are removed\")\n",
        "print(q)"
      ],
      "execution_count": 1,
      "outputs": [
        {
          "output_type": "stream",
          "name": "stdout",
          "text": [
            "Initial queue\n",
            "deque(['a', 'b', 'c'])\n",
            "\n",
            "Elements dequeued from the queue\n",
            "a\n",
            "b\n",
            "c\n",
            "\n",
            "Queue after removing elements\n",
            "deque([])\n"
          ]
        }
      ]
    },
    {
      "cell_type": "code",
      "metadata": {
        "colab": {
          "base_uri": "https://localhost:8080/"
        },
        "id": "pG1t8GBGmitg",
        "outputId": "6904de83-f070-4a8b-f57b-d8b32dff9caa"
      },
      "source": [
        "#question 3\n",
        "s = []\n",
        "t = []\n",
        "s = [3,3,4,5,2]\n",
        "def transfer(s,t):\n",
        "  for i in range(len(s)):\n",
        "    o = s.pop()\n",
        "    t.append(o)\n",
        "transfer(s,t)\n",
        "print(t)"
      ],
      "execution_count": 20,
      "outputs": [
        {
          "output_type": "stream",
          "name": "stdout",
          "text": [
            "[2, 5, 4, 3, 3]\n"
          ]
        }
      ]
    },
    {
      "cell_type": "code",
      "metadata": {
        "colab": {
          "base_uri": "https://localhost:8080/"
        },
        "id": "1ueavF5lOKBD",
        "outputId": "b94fb761-a733-40d3-fdd5-e9c769693842"
      },
      "source": [
        "#question 12\n",
        "from collections import deque\n",
        "class dequee():\n",
        "    def __init__(self): #constructor\n",
        "        self.size=deque()\n",
        "    def add_first(self,size):  \n",
        "        self.size.appendleft(size) \n",
        "    def add_last(self,size):\n",
        "        self.size.append(size)\n",
        "    def back(self):\n",
        "        return self.size[-1]\n",
        "    def front(self):\n",
        "        return self.size[0]\n",
        "    def delete_first(self):\n",
        "        self.size.popleft()\n",
        "    def delete_last(self):\n",
        "        self.size.pop()\n",
        "    def first(self):\n",
        "        return self.size[0]\n",
        "    def last(self):\n",
        "        return self.size[-1] \n",
        "D=dequee()\n",
        "D.add_first(4)\n",
        "D.back()\n",
        "print(D.back())\n",
        "D.delete_first()\n",
        "D.add_last(8)\n",
        "D.add_last(9)\n",
        "D.add_first(5)\n",
        "D.back()\n",
        "D.delete_first()\n",
        "D.delete_last()\n",
        "D.add_last(7)\n",
        "D.first()\n",
        "print(D.size)"
      ],
      "execution_count": 9,
      "outputs": [
        {
          "output_type": "stream",
          "name": "stdout",
          "text": [
            "4\n",
            "deque([8, 7])\n"
          ]
        }
      ]
    },
    {
      "cell_type": "code",
      "metadata": {
        "colab": {
          "base_uri": "https://localhost:8080/"
        },
        "id": "sLwHzuQYwRDS",
        "outputId": "1df8da08-0b9b-4bbf-f428-a5f4620643d8"
      },
      "source": [
        "#Question 6\n",
        "class Stack:\n",
        "    def __init__(obj):\n",
        "        obj.element = []\n",
        "    def empty(obj) :\n",
        "        return obj.element == []\n",
        "    def push(obj, item):\n",
        "        obj.element.append(item)\n",
        "    def pop(obj):\n",
        "        return obj.element.pop()\n",
        "    def check(obj,lst):\n",
        "        d={'(':')','{':'}','[':']'}\n",
        "        for item in lst:\n",
        "            if( item == '(' or item == '{' or item == '[' ):\n",
        "                Stk.push(item)\n",
        "            elif( item == ')' or item == '}' or item == ']' ):\n",
        "                value = Stk.pop()\n",
        "                if d[value] != item :\n",
        "                    return 'Not Balanced'\n",
        "            else:\n",
        "                continue\n",
        "        if Stk.empty():\n",
        "            return 'Balanced'\n",
        "        else:\n",
        "            return 'Not Balanced'\n",
        "Stk = Stack()\n",
        "lst = list(input())\n",
        "print(Stk.check(lst))"
      ],
      "execution_count": 26,
      "outputs": [
        {
          "output_type": "stream",
          "name": "stdout",
          "text": [
            "1(13+3)-[{2-1}*{2+1}]\n",
            "Balanced\n"
          ]
        }
      ]
    },
    {
      "cell_type": "code",
      "metadata": {
        "colab": {
          "base_uri": "https://localhost:8080/"
        },
        "id": "cuBDMCe7TrlA",
        "outputId": "aed280c0-cca1-4a2f-d971-9be2f5201e6a"
      },
      "source": [
        "#Question 1\n",
        "#The value returned is 5. Here is the code for that below:\n",
        "class stack:\n",
        "    def __init__(self):\n",
        "        self.elements=[]\n",
        "    def push(self,item):\n",
        "        self.elements.append(item)\n",
        "    def pop(self):\n",
        "        self.elements.pop()\n",
        "S=stack()\n",
        "S.push(5)\n",
        "S.push(3)\n",
        "S.pop()\n",
        "S.push(2)\n",
        "S.push(8)\n",
        "S.pop()\n",
        "S.pop()\n",
        "S.push(9)\n",
        "S.push(1)\n",
        "S.pop()\n",
        "S.push(7)\n",
        "S.push(6)\n",
        "S.pop()\n",
        "S.pop()\n",
        "S.push(4)\n",
        "S.pop()\n",
        "S.pop()\n",
        "print(S.elements)"
      ],
      "execution_count": 10,
      "outputs": [
        {
          "output_type": "stream",
          "name": "stdout",
          "text": [
            "[5]\n"
          ]
        }
      ]
    },
    {
      "cell_type": "code",
      "metadata": {
        "colab": {
          "base_uri": "https://localhost:8080/"
        },
        "id": "xZY3TWOqVB-z",
        "outputId": "78153de6-75b1-43b5-9718-f8ae824cf8a8"
      },
      "source": [
        "#question 8\n",
        "class queue:\n",
        "    def __init__(self):\n",
        "        self.elements=[]\n",
        "    def enqueue(self,item):\n",
        "        self.elements.append(item)\n",
        "    def first (self):\n",
        "        self.elements[0]\n",
        "    def dequeue(self):\n",
        "        self.elements.pop()\n",
        "    \n",
        "Q=queue()\n",
        "for item in range(32):\n",
        "    Q.enqueue(item)\n",
        "print(Q.elements)\n",
        "\n",
        "for item in range(10):\n",
        "    Q.first()\n",
        "for item in range(15):\n",
        "    Q.dequeue()\n",
        "print(Q.dequeue())\n",
        "print(len(Q.elements))\n"
      ],
      "execution_count": 14,
      "outputs": [
        {
          "output_type": "stream",
          "name": "stdout",
          "text": [
            "[0, 1, 2, 3, 4, 5, 6, 7, 8, 9, 10, 11, 12, 13, 14, 15, 16, 17, 18, 19, 20, 21, 22, 23, 24, 25, 26, 27, 28, 29, 30, 31]\n",
            "None\n",
            "16\n"
          ]
        }
      ]
    },
    {
      "cell_type": "code",
      "metadata": {
        "colab": {
          "base_uri": "https://localhost:8080/"
        },
        "id": "2aTQavKCjlid",
        "outputId": "b6a484d1-b728-4cae-96b7-ca1429868984"
      },
      "source": [
        "#question 9\n",
        "class ArrayQueue:\n",
        "    def __init__(self):\n",
        "        self.elements=[30]\n",
        "        self.front=0\n",
        "    def enqueue(self,item):\n",
        "        self.elements.append(item)\n",
        "        self.front=0\n",
        "    def first (self):\n",
        "        self.elements[0]\n",
        "    def dequeue(self):\n",
        "        self.elements.pop()\n",
        "        self.front=-1\n",
        "Q=ArrayQueue()\n",
        "for item in range(30):\n",
        "    Q.enqueue(item)\n",
        "print(Q.elements)\n",
        "print(Q.front)\n",
        "for item in range(30):\n",
        "    Q.dequeue()\n",
        "print(Q.elements)\n",
        "print(Q.front)\n",
        "#Hence First value will be the front value. Because queue runs on FIFO mechanism. \n",
        "#That means the element that entered first will be the first element."
      ],
      "execution_count": 15,
      "outputs": [
        {
          "output_type": "stream",
          "name": "stdout",
          "text": [
            "[30, 0, 1, 2, 3, 4, 5, 6, 7, 8, 9, 10, 11, 12, 13, 14, 15, 16, 17, 18, 19, 20, 21, 22, 23, 24, 25, 26, 27, 28, 29]\n",
            "0\n",
            "[30]\n",
            "-1\n"
          ]
        }
      ]
    },
    {
      "cell_type": "code",
      "metadata": {
        "id": "upABztNPtmc4"
      },
      "source": [
        "question 10:\n",
        "*The question is confusing and beyond my scope of current understanding even after trying for several hours.\n",
        "I will continue to try to understand this in the near future.*\n",
        "\n",
        "\n"
      ],
      "execution_count": null,
      "outputs": []
    },
    {
      "cell_type": "code",
      "metadata": {
        "id": "zom3mMpn0EaS"
      },
      "source": [
        "#question 4\n",
        "def removestack(stack):\n",
        "  def helper(stack,stack_size):\n",
        "    if len(stack)==0:\n",
        "      return stack\n",
        "    stack.pop\n",
        "    if stack is None:\n",
        "      stack=ArrayStack()\n",
        "      return stack\n",
        "    return helper(stack, len(stack))\n",
        "  stack = helper(stack, len(stack))\n",
        "  return stack\n"
      ],
      "execution_count": 29,
      "outputs": []
    },
    {
      "cell_type": "code",
      "metadata": {
        "colab": {
          "base_uri": "https://localhost:8080/"
        },
        "id": "lR3jTdzeqHUs",
        "outputId": "01b7f227-7204-4f12-a4de-28697cacd330"
      },
      "source": [
        "#question 7\n",
        "class queue:\n",
        "    def __init__(self):\n",
        "        self.elements=[]\n",
        "    def enqueue(self, item):\n",
        "        self.elements.append(item)\n",
        "    def dequeue(self):\n",
        "        self.elements.pop()\n",
        "Q=queue()\n",
        "Q.enqueue(5)\n",
        "Q.enqueue(3)\n",
        "Q.dequeue()\n",
        "Q.enqueue(2)\n",
        "Q.enqueue(8)\n",
        "Q.dequeue()\n",
        "Q.dequeue()\n",
        "Q.enqueue(9)\n",
        "Q.enqueue(1)\n",
        "Q.dequeue()\n",
        "Q.enqueue(7)\n",
        "Q.enqueue(6)\n",
        "Q.dequeue()\n",
        "Q.dequeue()\n",
        "Q.enqueue(4)\n",
        "Q.dequeue()\n",
        "Q.dequeue()\n",
        "print(Q.elements)"
      ],
      "execution_count": 24,
      "outputs": [
        {
          "output_type": "stream",
          "name": "stdout",
          "text": [
            "[5]\n"
          ]
        }
      ]
    }
  ]
}